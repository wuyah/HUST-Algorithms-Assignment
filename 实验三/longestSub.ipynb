{
 "cells": [
  {
   "cell_type": "code",
   "execution_count": 6,
   "metadata": {},
   "outputs": [],
   "source": [
    "def longestCommonSubsequence(text1: str, text2: str) -> int:\n",
    "    n1, n2 = len(text1), len(text2)\n",
    "    dp = [[0] * (n1+1) for _ in range(n2+1)]\n",
    "    s =  [[-1] * (n1+1) for _ in range(n2+1)]\n",
    "    res = []\n",
    "    for i in range(n1 + 1):\n",
    "        dp[0][i] = 0\n",
    "    for i in range(n2 + 1):\n",
    "        dp[i][0] = 0\n",
    "    for i in range(1, n2+1):\n",
    "        for j in range(1, n1+1):\n",
    "            if text2[i-1] == text1[j-1]:\n",
    "                dp[i][j] = dp[i-1][j-1] + 1\n",
    "                s[i][j] = 0\n",
    "            elif dp[i-1][j] >= dp[i][j-1]:\n",
    "                dp[i][j]  = dp[i-1][j]\n",
    "                s[i][j] = 1\n",
    "            else:\n",
    "                dp[i][j] = dp[i][j-1]\n",
    "                s[i][j] = 2\n",
    "    i, j = n2, n1\n",
    "    while i > 0 or j > 0:\n",
    "        if s[i][j] == -1:\n",
    "            break\n",
    "        if s[i][j] == 0:\n",
    "            res.append(text2[i-1])\n",
    "            i -= 1\n",
    "            j -= 1\n",
    "        elif s[i][j] == 1:\n",
    "            i -= 1\n",
    "        else:\n",
    "            j -= 1\n",
    "    res.reverse()\n",
    "    print(\"\".join(res))\n",
    "    print(len(res))\n",
    "    return dp[n2][n1]"
   ]
  },
  {
   "cell_type": "code",
   "execution_count": 7,
   "metadata": {},
   "outputs": [
    {
     "name": "stdout",
     "output_type": "stream",
     "text": [
      "GGTCGGATGCA\n",
      "11\n"
     ]
    },
    {
     "data": {
      "text/plain": [
       "11"
      ]
     },
     "execution_count": 7,
     "metadata": {},
     "output_type": "execute_result"
    }
   ],
   "source": [
    "s1 = \"ACCGGTCGAGATGCAG\"\n",
    "s2 = \"GTCGTTCGGAATGCAT\"\n",
    "longestCommonSubsequence(s1, s2)"
   ]
  },
  {
   "cell_type": "code",
   "execution_count": 4,
   "metadata": {},
   "outputs": [
    {
     "name": "stdout",
     "output_type": "stream",
     "text": [
      "a\n",
      "1\n"
     ]
    },
    {
     "data": {
      "text/plain": [
       "1"
      ]
     },
     "execution_count": 4,
     "metadata": {},
     "output_type": "execute_result"
    }
   ],
   "source": [
    "longestCommonSubsequence(\"a\",\"aa\")"
   ]
  },
  {
   "cell_type": "code",
   "execution_count": 81,
   "metadata": {},
   "outputs": [],
   "source": [
    "def minsLength(e, a1, t1,  a2, t2, x):\n",
    "    n = len(a1)\n",
    "    dp = [[0]*(n+1) for _ in range(2)]\n",
    "    road = [[0]*(n+1)for _ in range(2)]\n",
    "    dp[0][0] = e[0] + a1[0]\n",
    "    dp[1][0] = e[1] + a2[0]\n",
    "    for i in range(1, n):\n",
    "        if dp[0][i-1] + a1[i] > dp[1][i-1] + t2[i-1] + a1[i]:\n",
    "            dp[0][i] = dp[1][i-1] + t2[i-1] + a1[i]\n",
    "            road[0][i] = 1\n",
    "        else:\n",
    "            dp[0][i] = dp[0][i-1] + a1[i]\n",
    "            road[1][i] = 2\n",
    "        if dp[1][i-1] + a2[i] > dp[0][i-1] + t1[i-1] + a2[i]:\n",
    "            dp[1][i] = dp[0][i-1] + t1[i-1] + a2[i]\n",
    "            road[1][i] = 1\n",
    "        else:\n",
    "            dp[1][i] = dp[1][i-1] + a2[i]\n",
    "            road[1][i] = 2\n",
    "    i = 0\n",
    "    k = []\n",
    "    if dp[0][n-1] + x[0] < dp[1][n-1] + x[1]:\n",
    "        k.append(0)\n",
    "    else:\n",
    "        k.append(1)\n",
    "    i = n-1\n",
    "    while i>0:\n",
    "        tp = k[0]\n",
    "        if road[k[0]][i] == 1:\n",
    "            k.insert(0, int(not tp))\n",
    "        else:\n",
    "            k.insert(0, tp)\n",
    "        i -=1\n",
    "    print(dp)\n",
    "    print(k)\n",
    "    return min(dp[0][n-1] + x[0], dp[1][n-1] + x[1])\n"
   ]
  },
  {
   "cell_type": "code",
   "execution_count": 82,
   "metadata": {},
   "outputs": [],
   "source": [
    "e = [2,4]\n",
    "\n",
    "x = [3,6]\n",
    "\n",
    "a1 = [7,9,3,4,8]\n",
    "a2 = [8,5,6,4,5]\n",
    "t1=[2,3,1,3]\n",
    "t2=[2,1,2,2]\n"
   ]
  },
  {
   "cell_type": "code",
   "execution_count": 83,
   "metadata": {},
   "outputs": [
    {
     "name": "stdout",
     "output_type": "stream",
     "text": [
      "[[9, 18, 20, 24, 32, 0], [12, 16, 22, 25, 30, 0]]\n",
      "[0, 1, 0, 0, 0]\n"
     ]
    },
    {
     "data": {
      "text/plain": [
       "35"
      ]
     },
     "execution_count": 83,
     "metadata": {},
     "output_type": "execute_result"
    }
   ],
   "source": [
    "minsLength(e,a1,t1,a2,t2,x)"
   ]
  },
  {
   "cell_type": "markdown",
   "metadata": {},
   "source": []
  },
  {
   "cell_type": "code",
   "execution_count": null,
   "metadata": {},
   "outputs": [],
   "source": []
  }
 ],
 "metadata": {
  "interpreter": {
   "hash": "271520d9f8876fa56087d92bb138cc619c4a687ce6e1311621c69b25dedf1981"
  },
  "kernelspec": {
   "display_name": "Python 3.8.5 ('base')",
   "language": "python",
   "name": "python3"
  },
  "language_info": {
   "codemirror_mode": {
    "name": "ipython",
    "version": 3
   },
   "file_extension": ".py",
   "mimetype": "text/x-python",
   "name": "python",
   "nbconvert_exporter": "python",
   "pygments_lexer": "ipython3",
   "version": "3.8.5"
  },
  "orig_nbformat": 4
 },
 "nbformat": 4,
 "nbformat_minor": 2
}
